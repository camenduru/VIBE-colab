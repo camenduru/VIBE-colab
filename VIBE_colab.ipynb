{
  "cells": [
    {
      "cell_type": "markdown",
      "metadata": {
        "id": "view-in-github"
      },
      "source": [
        "[![Open In Colab](https://colab.research.google.com/assets/colab-badge.svg)](https://colab.research.google.com/github/camenduru/VIBE-colab/blob/main/VIBE_colab.ipynb)"
      ]
    },
    {
      "cell_type": "code",
      "execution_count": null,
      "metadata": {
        "id": "VjYy0F2gZIPR"
      },
      "outputs": [],
      "source": [
        "%cd /content\n",
        "!git clone https://github.com/camenduru/VIBE\n",
        "%cd /content/VIBE\n",
        "\n",
        "!source scripts/prepare_data.sh\n",
        "\n",
        "!pip install -q git+https://github.com/mkocabas/multi-person-tracker\n",
        "!pip install -q git+https://github.com/mkocabas/yolov3-pytorch\n",
        "!pip install -q git+https://github.com/mattloper/chumpy\n",
        "!pip install -q git+https://github.com/giacaglia/pytube\n",
        "!pip install -q yacs smplx trimesh pyrender progress filterpy scikit-video"
      ]
    },
    {
      "cell_type": "code",
      "execution_count": null,
      "metadata": {},
      "outputs": [],
      "source": [
        "%cd /content/PHALP\n",
        "!python scripts/demo.py video.source=assets/videos/gymnasts.mp4 video.start_frame=50 video.end_frame=100"
      ]
    },
    {
      "cell_type": "code",
      "execution_count": null,
      "metadata": {},
      "outputs": [],
      "source": [
        "def show_local_mp4_video(file_name, width=640, height=480):\n",
        "  import io\n",
        "  import base64\n",
        "  from IPython.display import HTML\n",
        "  video_encoded = base64.b64encode(io.open(file_name, 'rb').read())\n",
        "  return HTML(data='''<video width=\"{0}\" height=\"{1}\" alt=\"test\" controls>\n",
        "                      <source src=\"data:video/mp4;base64,{2}\" type=\"video/mp4\" />\n",
        "                      </video>'''.format(width, height, video_encoded.decode('ascii')))\n",
        "\n",
        "!ffmpeg -y -hide_banner -loglevel error -i outputs/PHALP_gymnasts.mp4 outputs/PHALP_gymnasts_ffmpg.mp4\n",
        "show_local_mp4_video('outputs/PHALP_gymnasts_ffmpg.mp4', width=960, height=540)"
      ]
    },
    {
      "cell_type": "code",
      "execution_count": null,
      "metadata": {},
      "outputs": [],
      "source": [
        "%cd /content/VIBE\n",
        "!python demo.py --vid_file sample_video.mp4 --output_folder output/ --sideview"
      ]
    },
    {
      "cell_type": "code",
      "execution_count": null,
      "metadata": {},
      "outputs": [],
      "source": [
        "from IPython.display import HTML\n",
        "from base64 import b64encode\n",
        "\n",
        "def video(path):\n",
        "  mp4 = open(path,'rb').read()\n",
        "  data_url = \"data:video/mp4;base64,\" + b64encode(mp4).decode()\n",
        "  return HTML('<video height=400 controls loop> <source src=\"%s\" type=\"video/mp4\"></video>' % data_url)\n",
        "\n",
        "video('output/sample_video/sample_video_vibe_result.mp4')"
      ]
    },
    {
      "cell_type": "code",
      "execution_count": null,
      "metadata": {},
      "outputs": [],
      "source": [
        "import joblib\n",
        "output = joblib.load('output/sample_video/vibe_output.pkl')\n",
        "print('Track ids:', output.keys(), end='\\n\\n')\n",
        "\n",
        "print('VIBE output file content:', end='\\n\\n')\n",
        "for k,v in output[1].items():\n",
        "  if k != 'joints2d': \n",
        "    print(k, v.shape)"
      ]
    }
  ],
  "metadata": {
    "accelerator": "GPU",
    "colab": {
      "gpuType": "T4",
      "provenance": []
    },
    "kernelspec": {
      "display_name": "Python 3",
      "name": "python3"
    },
    "language_info": {
      "name": "python"
    }
  },
  "nbformat": 4,
  "nbformat_minor": 0
}
